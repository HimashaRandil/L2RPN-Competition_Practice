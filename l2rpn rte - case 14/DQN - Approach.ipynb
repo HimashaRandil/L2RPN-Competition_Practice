{
 "cells": [
  {
   "cell_type": "markdown",
   "metadata": {},
   "source": [
    "# IMPORTS"
   ]
  },
  {
   "cell_type": "code",
   "execution_count": 1,
   "metadata": {},
   "outputs": [
    {
     "name": "stderr",
     "output_type": "stream",
     "text": [
      "e:\\L2RPN\\L2RPN_delft2023_starting_kit_1\\L2RPN_delft2023_starting_kit\\l2rpn\\Lib\\site-packages\\grid2op\\Backend\\pandaPowerBackend.py:36: UserWarning: Numba cannot be loaded. You will gain possibly massive speed if installing it by \n",
      "\te:\\L2RPN\\L2RPN_delft2023_starting_kit_1\\L2RPN_delft2023_starting_kit\\l2rpn\\Scripts\\python.exe -m pip install numba\n",
      "\n",
      "  warnings.warn(\n"
     ]
    }
   ],
   "source": [
    "import os\n",
    "import numpy as np\n",
    "import pandas as pd\n",
    "# from Agent import Agent\n",
    "import matplotlib.pyplot as plt\n",
    "import warnings\n",
    "import grid2op\n",
    "from grid2op.Action import TopologyChangeAction\n",
    "from tqdm.notebook import tqdm\n",
    "import grid2op\n",
    "# from utils import obs_to_vect, Converter, plotLearning"
   ]
  },
  {
   "cell_type": "code",
   "execution_count": 2,
   "metadata": {},
   "outputs": [],
   "source": [
    "import re\n",
    "# import agent_emil as agent "
   ]
  },
  {
   "cell_type": "code",
   "execution_count": 3,
   "metadata": {},
   "outputs": [],
   "source": [
    "from grid2op.Chronics import GridStateFromFileWithForecasts\n",
    "from grid2op.Agent import DoNothingAgent,RandomAgent,PowerLineSwitch,AgentWithConverter\n",
    "from grid2op.Action import DontAct,PowerlineChangeAction,TopologySetAction,TopologyChangeAction\n",
    "from grid2op.PlotGrid import PlotMatplot\n",
    "from grid2op.Parameters import Parameters\n",
    "from grid2op.Converter import IdToAct,Converter\n",
    "from grid2op.Reward import FlatReward"
   ]
  },
  {
   "cell_type": "code",
   "execution_count": 4,
   "metadata": {},
   "outputs": [],
   "source": [
    "from itertools import product\n",
    "from tqdm.notebook import tqdm "
   ]
  },
  {
   "cell_type": "markdown",
   "metadata": {},
   "source": [
    "# CREATE ENVIROMENT"
   ]
  },
  {
   "cell_type": "code",
   "execution_count": 5,
   "metadata": {},
   "outputs": [],
   "source": [
    "p = Parameters()\n",
    "# Disable lines disconnections due to overflows\n",
    "# p.NO_OVERFLOW_DISCONNECTION = False  # disconnect powerlines above their limits for too long or for “too much”\n",
    "# Allow many steps with overflow\n",
    "# p.NB_TIMESTEP_OVERFLOW_ALLOWED = 1 # Default is 2\n",
    "# No waiting time to reconnect\n",
    "# p.NB_TIMESTEP_RECONNECTION = 0\n",
    "# No authomatic disconnection\n",
    "# p.HARD_OVERFLOW_THRESHOLD = 9999"
   ]
  },
  {
   "cell_type": "code",
   "execution_count": 6,
   "metadata": {},
   "outputs": [
    {
     "name": "stderr",
     "output_type": "stream",
     "text": [
      "e:\\L2RPN\\L2RPN_delft2023_starting_kit_1\\L2RPN_delft2023_starting_kit\\l2rpn\\Lib\\site-packages\\grid2op\\MakeEnv\\Make.py:454: UserWarning: You are using a development environment. This environment is not intended for training agents. It might not be up to date and its primary use if for tests (hence the \"test=True\" you passed as argument). Use at your own risk.\n",
      "  warnings.warn(_MAKE_DEV_ENV_WARN)\n"
     ]
    },
    {
     "data": {
      "text/plain": [
       "(array(0),\n",
       " (209652396, 2087557356),\n",
       " (398764591,),\n",
       " (924231285,),\n",
       " (1478610112,),\n",
       " ((441365315,), (633163265,)),\n",
       " (1537364731,))"
      ]
     },
     "execution_count": 6,
     "metadata": {},
     "output_type": "execute_result"
    }
   ],
   "source": [
    "env_name = \"rte_case14_realistic\"\n",
    "env = grid2op.make(env_name, test=True, action_class=TopologyChangeAction)\n",
    "# For reproducibility\n",
    "env.seed(0)"
   ]
  },
  {
   "cell_type": "code",
   "execution_count": 7,
   "metadata": {},
   "outputs": [],
   "source": [
    "CHRONIC_ID = 000\n",
    "episode_count = 100 "
   ]
  },
  {
   "cell_type": "code",
   "execution_count": 8,
   "metadata": {},
   "outputs": [
    {
     "name": "stdout",
     "output_type": "stream",
     "text": [
      "No of Substations: 14 \n",
      "No of Generators: 5 \n",
      "No of Loads: 11 \n",
      "No of Lines: 20 \n",
      "No of Busbar per Substation: 2 \n"
     ]
    }
   ],
   "source": [
    "print(f'No of Substations: {env.n_sub} ')\n",
    "print(f'No of Generators: {env.n_gen} ')\n",
    "print(f'No of Loads: {env.n_load} ')\n",
    "print(f'No of Lines: {env.n_line} ')\n",
    "print(f'No of Busbar per Substation: {env.n_busbar_per_sub} ')"
   ]
  },
  {
   "cell_type": "code",
   "execution_count": 9,
   "metadata": {},
   "outputs": [
    {
     "name": "stdout",
     "output_type": "stream",
     "text": [
      "Substation 0 details:\n",
      "3\n",
      "Substation 1 details:\n",
      "6\n",
      "Substation 2 details:\n",
      "4\n",
      "Substation 3 details:\n",
      "6\n",
      "Substation 4 details:\n",
      "5\n",
      "Substation 5 details:\n",
      "6\n",
      "Substation 6 details:\n",
      "3\n",
      "Substation 7 details:\n",
      "2\n",
      "Substation 8 details:\n",
      "5\n",
      "Substation 9 details:\n",
      "3\n",
      "Substation 10 details:\n",
      "3\n",
      "Substation 11 details:\n",
      "3\n",
      "Substation 12 details:\n",
      "4\n",
      "Substation 13 details:\n",
      "3\n"
     ]
    }
   ],
   "source": [
    "# Print details for each substation\n",
    "for sub_id in range(env.n_sub):\n",
    "    print(f\"Substation {sub_id} details:\")\n",
    "    print(env.sub_info[sub_id])"
   ]
  },
  {
   "cell_type": "code",
   "execution_count": 10,
   "metadata": {},
   "outputs": [
    {
     "name": "stdout",
     "output_type": "stream",
     "text": [
      "Total number of bus actions: 56\n"
     ]
    }
   ],
   "source": [
    "def get_total_bus_actions(env):\n",
    "    total_actions = 0\n",
    "\n",
    "    # Assume there are 2 buses per substation\n",
    "    n_buses = 2\n",
    "\n",
    "    # Iterate over each substation\n",
    "    for sub_id in range(env.n_sub):\n",
    "        n_elements = env.sub_info[sub_id]  # Number of elements in the substation\n",
    "        \n",
    "        # Each element can switch to the other bus, which gives n_buses - 1 actions per element\n",
    "        total_actions += n_elements * (n_buses - 1)\n",
    "    \n",
    "    return total_actions\n",
    "\n",
    "# Calculate the total bus actions\n",
    "total_bus_actions = get_total_bus_actions(env)\n",
    "print(f\"Total number of bus actions: {total_bus_actions}\")\n"
   ]
  },
  {
   "cell_type": "markdown",
   "metadata": {},
   "source": [
    "\n",
    "# CONVERT GRID2OP ACTION TO ONE HOT ENCODING ACTION"
   ]
  },
  {
   "cell_type": "code",
   "execution_count": 11,
   "metadata": {},
   "outputs": [],
   "source": [
    "n_powerlines = 20\n",
    "n_substations = 14\n",
    "total_bus_actions = 56\n"
   ]
  },
  {
   "cell_type": "code",
   "execution_count": 12,
   "metadata": {},
   "outputs": [],
   "source": [
    "def create_one_hot_converter(n_powerlines,n_substations,total_bus_actions):\n",
    "    \"\"\"\n",
    "    Creates two 2-d np.arrays used for conversion between grid2op action to one hot encoding action vector used by a neural network\n",
    "    \"\"\"    \n",
    "    one_hot_encoding_act_conv = []\n",
    "    env_act_dict_list = []\n",
    "    zero_act = np.zeros((n_powerlines+total_bus_actions,1))\n",
    "    # print(zero_act.shape)\n",
    "    # print(zero_act)\n",
    "\n",
    "    ## Add do nothing action vector (all zeroes)\n",
    "    one_hot_encoding_act_conv.append(zero_act)\n",
    "    env_act_dict_list.append({}) ## {} is the do nothing dictonary for actions in grid2op\n",
    "    # print(env_act_dict_list)\n",
    "\n",
    "    ## Powerline change actions\n",
    "    for idx in range(n_powerlines):\n",
    "        one_hot_encoding_act_conv_pwline = zero_act.copy()\n",
    "        one_hot_encoding_act_conv_pwline[total_bus_actions+idx] = 1\n",
    "        one_hot_encoding_act_conv.append(one_hot_encoding_act_conv_pwline)\n",
    "        env_act_dict_list.append({'change_line_status': [idx]}) ## {'change_line_status': [idx]} set an action of changing line status for lineid with id idx\n",
    "        # print(env_act_dict_list)\n",
    "\n",
    "    ## Bus change actions\n",
    "    start_slice = 0\n",
    "    for sub_station_id, nb_el in enumerate(env.action_space.sub_info):\n",
    "        one_hot_encoding_act_conv_substation = zero_act.copy()\n",
    "        # print(f\"Substation {sub_station_id} has {nb_el} elements\")\n",
    "        possible_bus_actions = np.array(list(product('01', repeat=nb_el))).astype(int)\n",
    "        for possible_bus_action in possible_bus_actions:\n",
    "            if possible_bus_action.sum()>0: # Do not include no change action vector\n",
    "                one_hot_encoding_act_conv_substation[start_slice:(start_slice+nb_el)] = possible_bus_action.reshape(-1,1)\n",
    "                one_hot_encoding_act_conv.append(one_hot_encoding_act_conv_substation.copy())\n",
    "                env_act_dict_list.append({\"change_bus\": {\"substations_id\": [(sub_station_id, possible_bus_action.astype(bool))]}})\n",
    "        start_slice += nb_el\n",
    "\n",
    "    one_hot_encoding_act_conv = np.array(one_hot_encoding_act_conv).reshape(len(one_hot_encoding_act_conv),n_powerlines+total_bus_actions)\n",
    "\n",
    "    return one_hot_encoding_act_conv,env_act_dict_list\n",
    "\n",
    "\n",
    "def convert_env_act_to_one_hot_encoding_act(one_hot_encoding_act_conv,env_act):\n",
    "    \"\"\"\n",
    "    Converts an grid2op action (in numpy format) to a one hot encoding vector\n",
    "    \"\"\"\n",
    "    one_hot_encoding_act = np.zeros(len(one_hot_encoding_act_conv))\n",
    "    env_act = env_act.reshape(-1,)\n",
    "    action_idx = (one_hot_encoding_act_conv[:, None] == env_act).all(-1).any(-1)\n",
    "    one_hot_encoding_act[action_idx] = 1\n",
    "    return one_hot_encoding_act\n",
    "\n",
    "def convert_one_hot_encoding_act_to_env_act(env_act_dict_list,one_hot_encoding_act,env=env):\n",
    "    \"\"\"\n",
    "    Converts a one hot encoding action to a grid2op action\n",
    "    \"\"\"\n",
    "    return env.action_space(env_act_dict_list[one_hot_encoding_act.argmax().item()])\n",
    "\n",
    "# _,env_act_dict_list =  create_one_hot_converter(n_powerlines,n_substations,total_bus_actions)\n",
    "# print(env_act_dict_list)"
   ]
  },
  {
   "cell_type": "code",
   "execution_count": 13,
   "metadata": {},
   "outputs": [
    {
     "name": "stdout",
     "output_type": "stream",
     "text": [
      "Action directly from grid2op\n",
      "This action will:\n",
      "\t - NOT change anything to the injections\n",
      "\t - NOT perform any redispatching action\n",
      "\t - NOT modify any storage capacity\n",
      "\t - NOT perform any curtailment\n",
      "\t - NOT force any line status\n",
      "\t - NOT switch any line status\n",
      "\t - Change the bus of the following element(s):\n",
      "\t \t - Switch bus of line (extremity) id 5 [on substation 3]\n",
      "\t \t - Switch bus of line (origin) id 15 [on substation 3]\n",
      "\t \t - Switch bus of line (origin) id 16 [on substation 3]\n",
      "\t - NOT force any particular bus configuration\n",
      "Action converted to one hot encoding and back to grid2op action. Should be the same as above\n",
      "This action will:\n",
      "\t - NOT change anything to the injections\n",
      "\t - NOT perform any redispatching action\n",
      "\t - NOT modify any storage capacity\n",
      "\t - NOT perform any curtailment\n",
      "\t - NOT force any line status\n",
      "\t - NOT switch any line status\n",
      "\t - Change the bus of the following element(s):\n",
      "\t \t - Switch bus of line (extremity) id 5 [on substation 3]\n",
      "\t \t - Switch bus of line (origin) id 15 [on substation 3]\n",
      "\t \t - Switch bus of line (origin) id 16 [on substation 3]\n",
      "\t - NOT force any particular bus configuration\n"
     ]
    }
   ],
   "source": [
    "one_hot_encoding_act_conv,env_act_dict_list = create_one_hot_converter(n_powerlines,n_substations,total_bus_actions)\n",
    "\n",
    "my_agent = RandomAgent(env.action_space)\n",
    "all_obs = []\n",
    "obs = env.reset()\n",
    "reward = env.reward_range[0]\n",
    "reward_list = []\n",
    "done = False\n",
    "nb_step = 0\n",
    "action = my_agent.act(obs, reward, done)\n",
    "#print(action.to_vect()[:56])\n",
    "#print(action.to_vect()[-20:])\n",
    "print(\"Action directly from grid2op\")\n",
    "print(action)\n",
    "#print(action.to_dict())\n",
    "tmp_ = convert_env_act_to_one_hot_encoding_act(one_hot_encoding_act_conv,env_act=action.to_vect())\n",
    "my_action = convert_one_hot_encoding_act_to_env_act(env_act_dict_list,tmp_)\n",
    "print(\"Action converted to one hot encoding and back to grid2op action. Should be the same as above\")\n",
    "print(my_action)"
   ]
  },
  {
   "cell_type": "markdown",
   "metadata": {},
   "source": [
    "# DO NOTHING AGENT"
   ]
  },
  {
   "cell_type": "code",
   "execution_count": 14,
   "metadata": {},
   "outputs": [
    {
     "data": {
      "text/plain": [
       "8064"
      ]
     },
     "execution_count": 14,
     "metadata": {},
     "output_type": "execute_result"
    }
   ],
   "source": [
    "env.chronics_handler.max_timestep()"
   ]
  },
  {
   "cell_type": "code",
   "execution_count": 15,
   "metadata": {},
   "outputs": [
    {
     "name": "stdout",
     "output_type": "stream",
     "text": [
      "Do Nothing Agent Simulation\n"
     ]
    },
    {
     "data": {
      "application/vnd.jupyter.widget-view+json": {
       "model_id": "54e8c114daf74846a2885cd3783b4ae7",
       "version_major": 2,
       "version_minor": 0
      },
      "text/plain": [
       "  0%|          | 0/8064 [00:00<?, ?it/s]"
      ]
     },
     "metadata": {},
     "output_type": "display_data"
    },
    {
     "name": "stdout",
     "output_type": "stream",
     "text": [
      "798\n"
     ]
    }
   ],
   "source": [
    "my_agent = DoNothingAgent(env.action_space)\n",
    "all_obs = []\n",
    "obs = env.reset()\n",
    "all_obs.append(obs)\n",
    "reward = env.reward_range[0]\n",
    "reward_list = []\n",
    "done = False\n",
    "nb_step = 0\n",
    "print(\"Do Nothing Agent Simulation\")\n",
    "with tqdm(total=env.chronics_handler.max_timestep()) as pbar:\n",
    "\n",
    "    # env.set_id(CHRONIC_ID)\n",
    "    # ob = env.reset()\n",
    "\n",
    "    while True:\n",
    "        action = my_agent.act(obs, reward, done)\n",
    "        obs, reward, done, _ = env.step(action)\n",
    "        reward_list.append(reward)\n",
    "        pbar.update(1)\n",
    "        if done:\n",
    "            break\n",
    "        all_obs.append(obs)\n",
    "        nb_step += 1\n",
    "\n",
    "reward_list_do_nothing_agent = np.copy(reward_list)\n",
    "print(nb_step)"
   ]
  },
  {
   "cell_type": "code",
   "execution_count": 16,
   "metadata": {},
   "outputs": [
    {
     "data": {
      "text/plain": [
       "array([ 90.892365,  90.27503 ,  91.001724,  90.96513 ,  91.73933 ,\n",
       "        91.627945,  93.29091 ,  93.87387 ,  94.738914,  94.6588  ,\n",
       "        95.9449  ,  96.23099 ,  96.64119 ,  95.82291 ,  96.477394,\n",
       "        96.72495 ,  97.22262 ,  96.805984,  96.84982 ,  96.68316 ,\n",
       "        96.63987 ,  96.68316 ,  97.76865 ,  96.88922 ,  98.23717 ,\n",
       "        98.880066,  98.02426 ,  98.66588 ,  97.85428 ,  98.83789 ,\n",
       "        98.66634 ,  98.53629 ,  99.358765, 100.59496 , 100.01722 ,\n",
       "       101.6807  , 101.86466 , 102.325615, 103.35393 , 103.25883 ,\n",
       "       103.58879 , 103.87668 , 104.114296, 104.4023  , 105.082405,\n",
       "       105.91757 , 106.06642 , 106.16507 , 107.17199 , 105.817665,\n",
       "       107.73292 , 107.01946 , 107.68306 , 106.86703 , 107.52705 ,\n",
       "       106.51374 , 107.32307 , 108.560005, 107.220894, 108.194756,\n",
       "       108.76738 , 107.628265, 107.78295 , 108.610016, 107.73185 ,\n",
       "       107.32281 , 107.833916, 106.71559 , 107.37363 , 108.14301 ,\n",
       "       107.6291  , 106.96728 , 107.17028 , 107.11992 , 107.67985 ,\n",
       "       107.17069 , 107.069145, 106.21503 , 106.01477 , 106.21515 ,\n",
       "       105.768074, 105.520744, 105.818245, 106.06546 , 105.37418 ,\n",
       "       105.22746 , 106.01786 , 105.32642 , 104.30771 , 104.83704 ,\n",
       "       104.49861 , 103.54407 , 103.87585 , 104.69458 , 104.35576 ,\n",
       "       102.93335 , 103.45175 , 103.16818 , 102.51532 , 102.51542 ,\n",
       "       103.263435, 102.516525, 101.87014 , 102.14718 , 101.78035 ,\n",
       "       100.961235, 100.11395 , 100.42572 , 100.78491 , 100.070145,\n",
       "        98.8046  ,  99.193794,  98.7638  ,  99.5001  ,  97.86397 ,\n",
       "        97.15121 ,  97.90987 ,  96.53076 ,  96.16107 ,  96.82222 ,\n",
       "        96.16139 ,  95.71513 ,  95.27202 ,  96.12297 ,  95.07182 ,\n",
       "        95.15091 ,  95.15263 ,  94.20084 ,  94.04552 ,  94.47729 ,\n",
       "        94.31983 ,  93.927505,  94.516014,  93.84904 ,  93.772484,\n",
       "        93.928406,  93.6564  ,  93.27105 ,  93.27003 ,  93.19317 ,\n",
       "        92.92375 ,  93.499916,  92.81029 ,  93.50289 ,  92.73548 ,\n",
       "        93.27129 ,  93.42368 ,  92.62063 ,  92.66005 ,  92.168045,\n",
       "        92.31839 ,  91.980385,  92.019264,  92.09257 ,  91.34981 ,\n",
       "        92.055786,  91.017075,  91.90396 ,  93.383644,  93.15472 ,\n",
       "        93.88835 ,  94.63536 ,  94.19955 ,  96.20526 ,  95.83738 ,\n",
       "        96.65543 ,  97.02886 ,  97.613525,  97.319   ,  98.20662 ,\n",
       "        98.29164 ,  98.42036 ,  98.633286,  99.151985, 100.29522 ,\n",
       "        99.67542 , 100.739265, 101.28162 , 101.59847 , 102.05587 ,\n",
       "       102.47194 , 102.19384 , 102.517265, 103.03143 , 102.93757 ,\n",
       "       102.563705, 103.02948 , 102.935684, 103.40555 , 103.59409 ,\n",
       "       104.215576, 104.455124, 104.26359 , 104.35917 , 104.69687 ,\n",
       "       104.407005, 104.939964, 104.9397  , 105.331276, 104.3103  ,\n",
       "       105.232544, 104.31095 , 104.31196 , 105.23392 , 105.08763 ,\n",
       "       104.74753 , 103.73691 , 103.31093 , 103.21894 , 103.077995,\n",
       "       102.51652 , 101.687325, 101.0981  , 100.603264,  99.40937 ,\n",
       "        99.104866,  97.438095,  97.4406  ,  96.483696,  96.56589 ,\n",
       "        96.034256,  94.62686 ,  94.23122 ,  93.569954,  92.2315  ,\n",
       "        91.67123 ,  90.96858 ,  90.861015,  90.78816 ,  89.88654 ,\n",
       "        89.88412 ,  89.91969 ,  89.671555,  89.351204,  89.70495 ,\n",
       "        88.68375 ,  88.92976 ,  89.20906 ,  89.2089  ,  89.63303 ,\n",
       "        90.16957 ,  90.35036 ,  90.93097 ,  91.63108 ,  91.151306,\n",
       "        92.53336 ,  91.892334,  91.55685 ,  93.103905,  92.83638 ,\n",
       "        92.56799 ,  93.64363 ,  92.64416 ,  93.488014,  93.91741 ,\n",
       "        94.54342 ,  94.504234,  95.17939 ,  95.907234,  95.988785,\n",
       "        96.35635 ,  96.27499 ,  96.56195 ,  96.39675 ,  97.64661 ,\n",
       "        97.26847 ,  97.226166,  96.603355,  96.93397 ,  96.64443 ,\n",
       "        97.14278 ,  96.31539 ,  94.58288 ,  93.75937 ,  93.75834 ,\n",
       "        92.98809 ,  92.38058 ,  92.645775,  93.178734,  93.10393 ,\n",
       "        93.10173 ,  93.60387 ,  93.83714 ,  93.913506,  93.217514,\n",
       "        93.025444,  93.95196 ,  93.7191  ,  93.02388 ,  93.41124 ,\n",
       "        92.7958  ,  93.44847 ,  94.10902 ,  94.50192 ,  94.979095,\n",
       "        95.86628 ,  96.15023 ,  97.514946,  97.7276  ,  97.64332 ,\n",
       "        98.83927 ,  99.49112 ,  99.48949 ,  98.40609 ,  99.140396,\n",
       "        98.924385,  98.75234 ,  99.710976,  99.14186 ,  99.22835 ,\n",
       "       100.37362 , 100.2851  ,  99.88502 , 100.328   , 100.15043 ,\n",
       "        99.4018  , 100.730484, 101.13452 , 100.061386, 101.090065,\n",
       "       101.681114, 101.36171 , 102.884254, 102.69594 , 104.30645 ,\n",
       "       104.45085 , 104.35507 , 105.080864, 104.837715, 104.982544,\n",
       "       105.13013 , 105.03184 , 106.36555 , 106.3661  , 106.76637 ,\n",
       "       106.766846, 106.91847 , 108.04119 , 106.51635 , 106.91876 ,\n",
       "       107.27306 , 107.7857  , 106.71686 , 107.37526 , 107.01967 ,\n",
       "       106.66706 , 107.0192  , 107.273384, 106.86805 , 105.47413 ,\n",
       "       105.131096, 104.98302 , 104.405266, 102.744606, 102.41856 ,\n",
       "       102.23286 , 101.36259 , 101.637215, 101.00104 , 100.50814 ,\n",
       "        99.710625,  98.15201 ,  97.76926 ,  96.39589 ,  95.86503 ,\n",
       "        94.938385,  93.48727 ,  93.56404 ,  92.22764 ,  91.148544,\n",
       "        90.74806 ,  90.52964 ,  89.38366 ,  88.752914,  88.336716,\n",
       "        88.06046 ,  87.48055 ,  86.44469 ,  84.94745 ,  85.918434,\n",
       "        84.82143 ,  84.441696,  84.443085,  84.315796,  84.25527 ,\n",
       "        83.87988 ,  83.91045 ,  84.22407 ,  83.87976 ,  83.97492 ,\n",
       "        83.355606,  83.88199 ,  82.74481 ,  83.20301 ,  83.32706 ,\n",
       "        83.54198 ,  83.02154 ,  83.08162 ,  82.95809 ,  83.172424,\n",
       "        82.74717 ,  82.89916 ,  82.68827 ,  82.96159 ,  83.6688  ,\n",
       "        82.656975,  82.17673 ,  83.29886 ,  82.93254 ,  83.11626 ,\n",
       "        83.207664,  82.56815 ,  83.331894,  83.79486 ,  83.57895 ,\n",
       "        82.81138 ,  82.90241 ,  82.45081 ,  83.61139 ,  83.39497 ,\n",
       "        83.48685 ,  82.84496 ,  83.02735 ,  82.8753  ,  82.90614 ,\n",
       "        83.08931 ,  83.05725 ,  83.18176 ,  82.51192 ,  82.57325 ,\n",
       "        81.913246,  82.87509 ,  82.63287 ,  82.1531  ,  83.24079 ,\n",
       "        82.9069  ,  83.30362 ,  83.27178 ,  83.76631 ,  83.242584,\n",
       "        84.48793 ,  83.335724,  83.95327 ,  82.9659  ,  83.30251 ,\n",
       "        82.874115,  84.108505,  83.79695 ,  84.390274,  83.423706,\n",
       "        84.07744 ,  84.86527 ,  84.89593 ,  83.980316,  85.37799 ,\n",
       "        84.83297 ,  84.60915 ,  84.76784 ,  85.27858 ,  85.18315 ,\n",
       "        85.27812 ,  84.92492 ,  85.374855,  85.7291  ,  86.15271 ,\n",
       "        86.748375,  87.62276 ,  87.51988 ,  87.96203 ,  87.62135 ,\n",
       "        88.09904 ,  88.03018 ,  87.51513 ,  87.48176 ,  88.164925,\n",
       "        88.16591 ,  88.02722 ,  88.37209 ,  88.57824 ,  88.82267 ,\n",
       "        89.27841 ,  89.49069 ,  88.821594,  89.06586 ,  89.63072 ,\n",
       "        89.17243 ,  88.890785,  89.45437 ,  88.54291 ,  88.716   ,\n",
       "        88.99679 ,  88.92828 ,  88.68169 ,  88.50855 ,  89.45449 ,\n",
       "        88.6481  ,  89.56119 ,  88.33635 ,  88.405846,  88.200226,\n",
       "        87.21296 ,  86.94501 ,  86.14713 ,  86.214226,  85.336395,\n",
       "        84.34792 ,  84.85604 ,  83.97128 ,  83.50467 ,  83.046135,\n",
       "        82.61731 ,  82.200226,  81.545494,  81.07675 ,  80.49831 ,\n",
       "        80.23855 ,  79.5049  ,  79.61779 ,  79.81816 ,  79.96128 ,\n",
       "        79.67806 ,  81.28487 ,  80.55918 ,  80.330345,  80.876724,\n",
       "        81.69776 ,  81.519394,  82.02636 ,  82.293144,  82.86677 ,\n",
       "        82.5019  ,  83.447365,  84.38625 ,  84.00831 ,  84.92436 ,\n",
       "        85.27794 ,  85.92521 ,  86.12365 ,  86.78583 ,  86.95242 ,\n",
       "        87.559555,  87.79866 ,  88.10495 ,  88.52098 ,  89.255844,\n",
       "        89.35997 ,  89.7163  ,  90.47027 ,  90.2907  ,  90.218994,\n",
       "        91.98015 ,  92.16875 ,  92.09583 ,  92.32002 ,  92.32019 ,\n",
       "        93.004425,  92.20541 ,  91.94274 ,  91.90585 ,  92.16788 ,\n",
       "        91.46136 ,  90.43604 ,  89.219284,  88.79861 ,  88.21014 ,\n",
       "        87.7285  ,  88.5556  ,  88.346565,  88.31035 ,  88.86812 ,\n",
       "        89.39421 ,  89.89262 ,  89.35858 ,  89.607994,  90.83297 ,\n",
       "        89.325226,  90.28931 ,  89.4315  ,  89.96663 ,  90.72422 ,\n",
       "        90.72582 ,  90.83527 ,  91.8304  ,  92.622246,  92.88862 ,\n",
       "        94.009155,  94.3238  ,  95.519684,  95.68142 ,  95.55992 ,\n",
       "        96.21019 ,  96.00677 ,  95.64219 ,  95.80393 ,  95.68364 ,\n",
       "        95.68189 ,  96.706726,  95.721664,  95.64238 ,  96.7472  ,\n",
       "        96.62302 ,  96.047676,  97.078415,  96.622314,  96.87138 ,\n",
       "        96.746445,  97.07827 ,  97.83631 ,  97.66649 ,  98.218346,\n",
       "        98.389275,  99.60423 , 100.043625,  99.60197 , 100.04414 ,\n",
       "       100.35385 , 100.311615, 101.57222 , 100.80268 , 101.38898 ,\n",
       "       100.98027 , 101.61689 , 102.21442 , 101.66029 , 102.44573 ,\n",
       "       102.53805 , 102.72479 , 103.76041 , 102.5385  , 102.77262 ,\n",
       "       102.6327  , 101.98274 , 102.53936 , 103.14766 , 102.72499 ,\n",
       "       102.02956 , 101.11646 , 101.5267  , 101.52713 , 100.57721 ,\n",
       "        99.601234,  99.514946,  98.68629 ,  97.83427 ,  97.79139 ,\n",
       "        97.45461 ,  97.371605,  96.3353  ,  95.358055,  95.47743 ,\n",
       "        94.47967 ,  93.34985 ,  92.84863 ,  91.19884 ,  91.23731 ,\n",
       "        89.536865,  88.866165,  88.93686 ,  88.31284 ,  87.2531  ,\n",
       "        87.01928 ,  86.15423 ,  85.11463 ,  84.858696,  84.477776,\n",
       "        84.22555 ,  83.29448 ,  82.92563 ,  81.90394 ,  82.8364  ,\n",
       "        81.87625 ,  81.63809 ,  81.37323 ,  81.84743 ,  81.08289 ,\n",
       "        80.36077 ,  81.790085,  80.391   ,  81.61373 ,  81.2614  ,\n",
       "        81.23402 ,  81.145096,  81.11756 ,  81.47046 ,  80.770935,\n",
       "        80.943825,  80.74361 ,  80.946945,  80.917366,  80.5728  ,\n",
       "        80.19731 ,  80.9504  ,  81.21165 ,  80.80455 ,  80.7477  ,\n",
       "        81.211555,  81.21333 ,  80.77723 ,  80.45957 ,  80.978546,\n",
       "        81.21263 ,  81.5659  ,  81.83275 ,  81.2139  ,  81.1545  ,\n",
       "        81.21249 ,  81.62357 ,  81.53657 ,  81.50656 ,  81.65321 ,\n",
       "        80.861015,  81.56435 ,  81.80248 ,  81.593796,  81.65197 ,\n",
       "        81.417854,  81.77052 ,  81.44849 ,  81.18397 ,  81.2703  ,\n",
       "        81.06539 ,  81.77071 ,  81.94697 ,  81.47713 ,  81.564384,\n",
       "        82.88114 ,  82.45705 ,  82.60715 ,  82.21686 ,  82.06764 ,\n",
       "        82.87895 ,  82.57732 ,  82.69756 ,  82.24405 ,  83.00149 ,\n",
       "        82.970184,  82.87786 ,  83.706566,  83.646416,  83.55209 ,\n",
       "        84.04854 ,  84.270744,  84.45889 ,  84.01779 ,  84.26681 ,\n",
       "        84.61464 ,  84.676414,  84.48443 ,  84.89805 ,  85.12348 ,\n",
       "        85.05534 ,  85.66888 ,  85.47298 ,  86.52363 ,  85.70018 ,\n",
       "        87.291695,  86.68803 ,  87.15465 ,  87.12108 ,  87.55775 ,\n",
       "        87.6264  ,  87.42324 ,  87.32081 ,  88.068146,  88.62021 ,\n",
       "        87.65599 ,  88.55139 ,  87.929924,  88.47944 ,  88.06612 ,\n",
       "        88.79375 ,  88.65444 ,  88.51625 ,  88.551346,  87.99854 ,\n",
       "        88.27458 ,  88.72296 ,  88.2048  ,  88.4453  ,  89.49852 ,\n",
       "        87.96487 ,  88.34364 ,  88.51685 ,  87.93232 ,  87.86388 ,\n",
       "        87.89754 ,  87.21698 ,  86.84859 ,  86.25234 ,  86.38755 ,\n",
       "        85.826866,  84.50945 ,  83.91015 ,  83.81898 ,  83.78741 ,\n",
       "        82.83621 ,  82.11019 ,  82.410286, -10.      ], dtype=float32)"
      ]
     },
     "execution_count": 16,
     "metadata": {},
     "output_type": "execute_result"
    }
   ],
   "source": [
    "reward_list_do_nothing_agent"
   ]
  },
  {
   "cell_type": "markdown",
   "metadata": {},
   "source": [
    "# RANDOM ACTION AGENT"
   ]
  },
  {
   "cell_type": "code",
   "execution_count": 17,
   "metadata": {},
   "outputs": [
    {
     "name": "stdout",
     "output_type": "stream",
     "text": [
      "Random Agent Simulation\n"
     ]
    },
    {
     "data": {
      "application/vnd.jupyter.widget-view+json": {
       "model_id": "e6832f9890284a32b9ff725dda707c71",
       "version_major": 2,
       "version_minor": 0
      },
      "text/plain": [
       "  0%|          | 0/8064 [00:00<?, ?it/s]"
      ]
     },
     "metadata": {},
     "output_type": "display_data"
    },
    {
     "name": "stdout",
     "output_type": "stream",
     "text": [
      "3\n"
     ]
    }
   ],
   "source": [
    "my_agent = RandomAgent(env.action_space)\n",
    "all_obs = []\n",
    "obs = env.reset()\n",
    "all_obs.append(obs)\n",
    "reward = env.reward_range[0]\n",
    "reward_list = []\n",
    "done = False\n",
    "nb_step = 0\n",
    "print(\"Random Agent Simulation\")\n",
    "with tqdm(total=env.chronics_handler.max_timestep()) as pbar:\n",
    "\n",
    "    # env.set_id(CHRONIC_ID)\n",
    "    # ob = env.reset()\n",
    "    \n",
    "    while True:\n",
    "        action = my_agent.act(obs, reward, done)\n",
    "        obs, reward, done, _ = env.step(action)\n",
    "        reward_list.append(reward)\n",
    "        pbar.update(1)\n",
    "        if done:\n",
    "            break\n",
    "        all_obs.append(obs)\n",
    "        nb_step += 1\n",
    "\n",
    "reward_list_random_agent = np.copy(reward_list)\n",
    "print(nb_step)"
   ]
  },
  {
   "cell_type": "markdown",
   "metadata": {},
   "source": [
    "# GRAPHICAL COMPARISON OF PRE-BUILT AGENTS"
   ]
  },
  {
   "cell_type": "code",
   "execution_count": 18,
   "metadata": {},
   "outputs": [
    {
     "data": {
      "image/png": "[encoded data removed]",
      "text/plain": [
       "<Figure size 700x500 with 1 Axes>"
      ]
     },
     "metadata": {},
     "output_type": "display_data"
    }
   ],
   "source": [
    "import seaborn as sns\n",
    "import matplotlib.pyplot as plt\n",
    "\n",
    "nested_lists = [reward_list_do_nothing_agent,reward_list_random_agent]\n",
    "lists_to_df  = []\n",
    "\n",
    "for nested_list in  nested_lists:\n",
    "  len_list = len(nested_list)\n",
    "  final_value = nested_list[-1]\n",
    "  list_ = np.repeat(final_value,env.chronics_handler.max_timestep())\n",
    "  list_[:len_list] = nested_list\n",
    "  lists_to_df.append(list_)\n",
    "\n",
    "df_pre_built_agents = pd.DataFrame(lists_to_df)\\\n",
    ".transpose()\\\n",
    ".rename(columns={0:'do_nothing_agent',1:'random_agent'})\\\n",
    ".stack()\\\n",
    ".reset_index()\\\n",
    ".rename(columns={'level_0':'iteration','level_1':'agent_type',0:'reward'})\n",
    "\n",
    "\n",
    "fig,ax = plt.subplots(1,1,figsize=(7,5))\n",
    "sns.lineplot(x='iteration',y='reward',hue='agent_type',ax=ax,data=df_pre_built_agents)\n",
    "ax.set_xlabel(\"# of iterations\")\n",
    "ax.set_ylabel(\"Reward\")\n",
    "ax.set_title(\"Performance of pre-built grid2op agents\\n(Only actions available are pwline switch and topology set action)\")\n",
    "ax.legend(title='Agent Type')\n",
    "plt.tight_layout()\n",
    "plt.show()\n",
    "# df_pre_built_agents = pd.DataFrame({'random_agent':reward_list_random_agent,\n",
    "#                                     'power_line_switch_agent':reward_power_line_switch_agent\n",
    "#                                     })\n",
    "# df_pre_built_agents"
   ]
  },
  {
   "cell_type": "markdown",
   "metadata": {},
   "source": [
    "# SIMPLE DQN"
   ]
  },
  {
   "cell_type": "code",
   "execution_count": 19,
   "metadata": {},
   "outputs": [],
   "source": [
    "import numpy as np\n",
    "import random\n",
    "from collections import deque\n",
    "import torch\n",
    "import torch.nn as nn\n",
    "import torch.optim as optim\n",
    "import torch.nn.functional as F\n",
    "\n",
    "#%% Agent\n",
    "\n",
    "class ReplayMemory(object):\n",
    "    \"\"\"Experience Replay Memory\"\"\"\n",
    "    \n",
    "    def __init__(self, capacity):\n",
    "        #self.size = size\n",
    "        self.memory = deque(maxlen=capacity)\n",
    "    \n",
    "    def add(self, *args):\n",
    "        \"\"\"Add experience to memory.\"\"\"\n",
    "        self.memory.append([*args])\n",
    "    \n",
    "    def sample(self, batch_size):\n",
    "        \"\"\"Sample batch of experiences from memory with replacement.\"\"\"\n",
    "        return random.sample(self.memory, batch_size)\n",
    "    \n",
    "    def count(self):\n",
    "        return len(self.memory)\n",
    "    \n",
    "\n",
    "\n",
    "\n",
    "\n",
    "class DQN(nn.Module):\n",
    "    \"\"\"Deep Q-network with target network\"\"\"\n",
    "    \n",
    "    def __init__(self, NN_PARAMS):\n",
    "        super(DQN, self).__init__()\n",
    "        self.NN_PARAMS = NN_PARAMS\n",
    "        self.hd_layers = nn.ModuleList()\n",
    "        # network\n",
    "        if NN_PARAMS['n_hidden_layers']==0:\n",
    "            self.out = nn.Linear(NN_PARAMS['n_inputs'], NN_PARAMS['n_outputs'])\n",
    "        else:\n",
    "            self.out = nn.Linear(NN_PARAMS['n_hidden_units'][-1], NN_PARAMS['n_outputs'])\n",
    "        \n",
    "        if NN_PARAMS['n_hidden_layers']>0:\n",
    "            input_units = NN_PARAMS['n_inputs']\n",
    "            for i in range(NN_PARAMS['n_hidden_layers']):\n",
    "                self.hd_layers.append(nn.Linear(input_units, NN_PARAMS['n_hidden_units'][i]))\n",
    "                input_units = NN_PARAMS['n_hidden_units'][i]\n",
    "                \n",
    "        # training\n",
    "        if NN_PARAMS['optimizer']=='SGD':\n",
    "            self.optimizer = optim.SGD(self.parameters(), lr=NN_PARAMS['learning_rate'])\n",
    "        elif NN_PARAMS['optimizer']=='ADAM':\n",
    "            self.optimizer = optim.Adam(self.parameters(), lr=NN_PARAMS['learning_rate'],weight_decay=NN_PARAMS['weight_decay'])\n",
    "    \n",
    "    def forward(self, x):\n",
    "        if self.NN_PARAMS['n_hidden_layers']==0:\n",
    "            return self.out(x)\n",
    "        else:      \n",
    "            for i in range(len(self.hd_layers)):\n",
    "                x = F.relu(self.hd_layers[i](x))\n",
    "            return self.out(x)           \n",
    "    \n",
    "    def loss(self, q_outputs, q_targets):\n",
    "        return torch.sum(torch.pow(q_targets - q_outputs, 2))\n",
    "    \n",
    "    def update_params(self, new_params, tau):\n",
    "        params = self.state_dict()\n",
    "        for k in params.keys():\n",
    "            params[k] = (1-tau) * params[k] + tau * new_params[k]\n",
    "        self.load_state_dict(params)\n",
    "\n",
    "    def print_NN_PARAMS(self):\n",
    "        print(self.NN_PARAMS)\n",
    "\n",
    "\n",
    "# NN_PARAMS = {\n",
    "#     'n_inputs':100,\n",
    "#     'n_outputs':100,\n",
    "#     'n_hidden_layers':2,\n",
    "#     'n_hidden_units':[300,300],\n",
    "#     'relu':True,\n",
    "#     'optimizer':'ADAM',\n",
    "#     'learning_rate':0.005,\n",
    "#     'weight_decay':0.001\n",
    "# }\n",
    "# policy_dqn = DQN(NN_PARAMS)\n",
    "# x = torch.from_numpy(np.zeros(NN_PARAMS['n_inputs'])).float()\n",
    "# policy_dqn(x)\n",
    "# %%"
   ]
  },
  {
   "cell_type": "code",
   "execution_count": 20,
   "metadata": {},
   "outputs": [],
   "source": [
    "load_qdn_from_network = False\n",
    "prefix_NN_weight_files = 'dec_2_'"
   ]
  },
  {
   "cell_type": "code",
   "execution_count": 21,
   "metadata": {},
   "outputs": [],
   "source": [
    "def act_vect_to_act_obj(env, Q_est):\n",
    "    \"\"\"\n",
    "    This function returns a grid2op action object based on the estimated Q-value vector.\n",
    "    It operates as follows:\n",
    "    1. Identifies whether a' (action that maximizes Q function is positive).\n",
    "    2. if a' is non-positive, do nothing action is returned\n",
    "    3. if a' positive a grid2op action with line change of a' is returned.   \n",
    "\n",
    "    Arguments:\n",
    "\n",
    "    env: grid2op enviroment\n",
    "\n",
    "    Q_est: torch array\n",
    "    - Estimated Q-value function \n",
    "\n",
    "    Returns\n",
    "    a: grid2op action object\n",
    "    \"\"\"\n",
    "\n",
    "    ## Fix potential nan values\n",
    "    Q_est[Q_est!=Q_est] = -1\n",
    "    a_argmax = Q_est.argmax()\n",
    "\n",
    "    # Check if a' is above zero\n",
    "    if Q_est.max()>0:\n",
    "        line_id = Q_est.argmax().item()\n",
    "        a = env.action_space({'change_line_status': [line_id]}) # Change line status of line with line_id\n",
    "    else:\n",
    "        a = env.action_space({}) # Do nothing\n",
    "\n",
    "    return a"
   ]
  },
  {
   "cell_type": "code",
   "execution_count": 22,
   "metadata": {},
   "outputs": [],
   "source": [
    "if torch.cuda.is_available(): \n",
    " dev = \"cuda:0\" \n",
    "else: \n",
    " dev = \"cpu\""
   ]
  },
  {
   "cell_type": "code",
   "execution_count": 23,
   "metadata": {},
   "outputs": [],
   "source": [
    "one_hot_encoding_act_conv,env_act_dict_list = create_one_hot_converter(n_powerlines,n_substations,total_bus_actions)"
   ]
  },
  {
   "cell_type": "code",
   "execution_count": 24,
   "metadata": {},
   "outputs": [],
   "source": [
    "TRAINING_PARAMS = {\n",
    "    'num_episodes':2500,\n",
    "    'episode_limit':env.chronics_handler.max_timestep(),\n",
    "    'batch_size':64,\n",
    "    'replay_memory_capacity':20000,\n",
    "    'prefil_memory':True,\n",
    "    'val_freq':100,\n",
    "    'tau':0.01,\n",
    "    'gamma':0.99,\n",
    "    'episilon_decay':'Linear' # 'Linear' or 'Exponential'\n",
    "}"
   ]
  },
  {
   "cell_type": "code",
   "execution_count": 25,
   "metadata": {},
   "outputs": [],
   "source": [
    "NN_PARAMS = {\n",
    "    'n_inputs':env.observation_space.n,\n",
    "    'n_outputs':len(one_hot_encoding_act_conv),\n",
    "    'n_hidden_layers':3,\n",
    "    'n_hidden_units':[300,300,300],\n",
    "    'relu':True,\n",
    "    'optimizer':'SGD',\n",
    "    'learning_rate':0.005,\n",
    "    'weight_decay':0.001\n",
    "}"
   ]
  },
  {
   "cell_type": "code",
   "execution_count": 26,
   "metadata": {},
   "outputs": [],
   "source": [
    "# n_inputs = env.observation_space.n\n",
    "# n_outputs = env.action_space.n\n"
   ]
  },
  {
   "cell_type": "code",
   "execution_count": 27,
   "metadata": {},
   "outputs": [],
   "source": [
    "policy_dqn = DQN(NN_PARAMS)\n",
    "target_dqn = DQN(NN_PARAMS)\n"
   ]
  },
  {
   "cell_type": "code",
   "execution_count": 28,
   "metadata": {},
   "outputs": [],
   "source": [
    "if load_qdn_from_network:\n",
    "  target_dqn.load_state_dict(torch.load('checkpoint_target_dqn.pth'))\n",
    "  policy_dqn.load_state_dict(torch.load('checkpoint_policy_dqn.pth'))"
   ]
  },
  {
   "cell_type": "code",
   "execution_count": 29,
   "metadata": {},
   "outputs": [],
   "source": [
    "# set to cuda if available\n",
    "policy_dqn = policy_dqn.to(dev)\n",
    "target_dqn = target_dqn.to(dev)\n"
   ]
  },
  {
   "cell_type": "code",
   "execution_count": 30,
   "metadata": {},
   "outputs": [],
   "source": [
    "replay_memory = ReplayMemory(TRAINING_PARAMS['replay_memory_capacity'])\n"
   ]
  },
  {
   "cell_type": "code",
   "execution_count": 31,
   "metadata": {},
   "outputs": [
    {
     "name": "stdout",
     "output_type": "stream",
     "text": [
      "prefill replay memory\n"
     ]
    },
    {
     "data": {
      "application/vnd.jupyter.widget-view+json": {
       "model_id": "5b3e8123727342e59e5d4d6e2eff8b37",
       "version_major": 2,
       "version_minor": 0
      },
      "text/plain": [
       "  0%|          | 0/20000 [00:00<?, ?it/s]"
      ]
     },
     "metadata": {},
     "output_type": "display_data"
    },
    {
     "name": "stdout",
     "output_type": "stream",
     "text": [
      "An error occurred: failed to factorize matrix at line 110 in file ../scipy/sparse/linalg/_dsolve/SuperLU/SRC/dsnode_bmod.c\n",
      "\n",
      "Action: This action will:\n",
      "\t - NOT change anything to the injections\n",
      "\t - NOT perform any redispatching action\n",
      "\t - NOT modify any storage capacity\n",
      "\t - NOT perform any curtailment\n",
      "\t - NOT force any line status\n",
      "\t - Switch status of 1 powerlines ([16])\n",
      "\t - NOT switch anything in the topology\n",
      "\t - NOT force any particular bus configuration\n",
      "Current State: <grid2op.Space.GridObjects.CompleteObservation_rte_case14_realistic object at 0x000001B68E4D6CF0>\n"
     ]
    }
   ],
   "source": [
    "# prefill replay memory with random actions\n",
    "if TRAINING_PARAMS['prefil_memory']:\n",
    "    print('prefill replay memory')\n",
    "    s = env.reset()\n",
    "    with tqdm(total=TRAINING_PARAMS['replay_memory_capacity']) as pbar:\n",
    "      while replay_memory.count() < TRAINING_PARAMS['replay_memory_capacity']:\n",
    "          a = env.action_space.sample()\n",
    "          try:\n",
    "            s1, r, d, _ = env.step(a)\n",
    "          except Exception as e:\n",
    "            print(f\"An error occurred: {e}\")\n",
    "            print(f\"Action: {a}\")\n",
    "            print(f\"Current State: {s}\")\n",
    "          a_one_hot = convert_env_act_to_one_hot_encoding_act(one_hot_encoding_act_conv,env_act=a.to_vect())\n",
    "          replay_memory.add(s.to_vect(), a_one_hot, r, s1.to_vect(), d)\n",
    "          s = s1 if not d else env.reset()\n",
    "          pbar.update(1)"
   ]
  },
  {
   "cell_type": "code",
   "execution_count": 33,
   "metadata": {},
   "outputs": [],
   "source": [
    "def train_dqn(policy_dqn, target_dqn, replay_memory, env, TRAINING_PARAMS, one_hot_encoding_act_conv, env_act_dict_list, dev):\n",
    "    epsilon = 1.0  # Exploration rate\n",
    "    epsilon_min = 0.01\n",
    "    epsilon_decay = 0.995  # Exponential decay\n",
    "\n",
    "    for episode in range(TRAINING_PARAMS['num_episodes']):\n",
    "        # Reset the environment for each new episode\n",
    "        state = env.reset()\n",
    "        total_reward = 0\n",
    "        done = False\n",
    "\n",
    "        # Loop over timesteps for each episode\n",
    "        for timestep in range(TRAINING_PARAMS['episode_limit']):\n",
    "            # Epsilon-greedy action selection\n",
    "            if np.random.rand() < epsilon:\n",
    "                # Take a random action\n",
    "                action = env.action_space.sample()\n",
    "                action_one_hot = convert_env_act_to_one_hot_encoding_act(one_hot_encoding_act_conv, action.to_vect())\n",
    "            else:\n",
    "                # Take action based on the policy network (exploitation)\n",
    "                state_tensor = torch.FloatTensor(state.to_vect()).to(dev)\n",
    "                q_values = policy_dqn(state_tensor)\n",
    "                action = act_vect_to_act_obj(env, q_values.cpu().detach().numpy())\n",
    "                action_one_hot = convert_env_act_to_one_hot_encoding_act(one_hot_encoding_act_conv, action.to_vect())\n",
    "\n",
    "            # Interact with the environment\n",
    "            next_state, reward, done, _ = env.step(action)\n",
    "            total_reward += reward\n",
    "\n",
    "            # Store the experience in replay memory\n",
    "            replay_memory.add(state.to_vect(), action_one_hot, reward, next_state.to_vect(), done)\n",
    "\n",
    "            # Sample from replay memory and train the network\n",
    "            if replay_memory.count() > TRAINING_PARAMS['batch_size']:\n",
    "                # Sample a batch of experiences from memory\n",
    "                batch = replay_memory.sample(TRAINING_PARAMS['batch_size'])\n",
    "                batch_states, batch_actions, batch_rewards, batch_next_states, batch_dones = zip(*batch)\n",
    "\n",
    "                # Convert to tensors\n",
    "                states = torch.FloatTensor(np.array(batch_states)).to(dev)\n",
    "                actions = torch.FloatTensor(np.array(batch_actions)).to(dev)\n",
    "                rewards = torch.FloatTensor(np.array(batch_rewards)).to(dev)\n",
    "                next_states = torch.FloatTensor(np.array(batch_next_states)).to(dev)\n",
    "                dones = torch.FloatTensor(np.array(batch_dones)).to(dev)\n",
    "\n",
    "                # Compute Q values using the policy network\n",
    "                q_values = policy_dqn(states)\n",
    "                q_values = torch.sum(q_values * actions, dim=1)  # Select action values\n",
    "\n",
    "                # Compute target Q values using the target network\n",
    "                with torch.no_grad():\n",
    "                    next_q_values = target_dqn(next_states)\n",
    "                    max_next_q_values = next_q_values.max(dim=1)[0]  # Max Q value for next state\n",
    "\n",
    "                # Calculate the target\n",
    "                targets = rewards + (1 - dones) * TRAINING_PARAMS['gamma'] * max_next_q_values\n",
    "\n",
    "                # Compute loss\n",
    "                loss = F.mse_loss(q_values, targets)\n",
    "\n",
    "                # Optimize the policy network\n",
    "                policy_dqn.optimizer.zero_grad()\n",
    "                loss.backward()\n",
    "                policy_dqn.optimizer.step()\n",
    "\n",
    "                # Soft update the target network\n",
    "                target_dqn.update_params(policy_dqn.state_dict(), TRAINING_PARAMS['tau'])\n",
    "\n",
    "            # Move to the next state\n",
    "            state = next_state\n",
    "\n",
    "            # Break if the episode is finished\n",
    "            if done:\n",
    "                break\n",
    "\n",
    "        # Decay epsilon for exploration-exploitation trade-off\n",
    "        if epsilon > epsilon_min:\n",
    "            if TRAINING_PARAMS['episilon_decay'] == 'Exponential':\n",
    "                epsilon *= epsilon_decay\n",
    "            elif TRAINING_PARAMS['episilon_decay'] == 'Linear':\n",
    "                epsilon -= (1 - epsilon_min) / TRAINING_PARAMS['num_episodes']\n",
    "\n",
    "        # Log progress every 100 episodes\n",
    "        if (episode + 1) % 100 == 0:\n",
    "            print(f\"Episode {episode + 1}/{TRAINING_PARAMS['num_episodes']}, Total Reward: {total_reward:.2f}, Epsilon: {epsilon:.2f}\")\n",
    "\n",
    "    # Save the models\n",
    "    torch.save(policy_dqn.state_dict(), 'checkpoint_policy_dqn.pth')\n",
    "    torch.save(target_dqn.state_dict(), 'checkpoint_target_dqn.pth')\n",
    "    print(\"Training complete! Models saved.\")\n",
    "\n"
   ]
  },
  {
   "cell_type": "code",
   "execution_count": 34,
   "metadata": {},
   "outputs": [
    {
     "name": "stdout",
     "output_type": "stream",
     "text": [
      "Episode 100/2500, Total Reward: 262.10, Epsilon: 0.96\n",
      "Episode 200/2500, Total Reward: 171.07, Epsilon: 0.92\n",
      "Episode 300/2500, Total Reward: 171.12, Epsilon: 0.88\n",
      "Episode 400/2500, Total Reward: -10.00, Epsilon: 0.84\n",
      "Episode 500/2500, Total Reward: 262.10, Epsilon: 0.80\n",
      "Episode 600/2500, Total Reward: 171.17, Epsilon: 0.76\n",
      "Episode 700/2500, Total Reward: 262.15, Epsilon: 0.72\n",
      "Episode 800/2500, Total Reward: 171.16, Epsilon: 0.68\n",
      "Episode 900/2500, Total Reward: 171.10, Epsilon: 0.64\n",
      "Episode 1000/2500, Total Reward: 262.12, Epsilon: 0.60\n",
      "Episode 1100/2500, Total Reward: 80.89, Epsilon: 0.56\n",
      "Episode 1200/2500, Total Reward: 353.05, Epsilon: 0.52\n",
      "Episode 1300/2500, Total Reward: 444.82, Epsilon: 0.49\n",
      "Episode 1400/2500, Total Reward: 262.14, Epsilon: 0.45\n",
      "Episode 1500/2500, Total Reward: 353.12, Epsilon: 0.41\n",
      "Episode 1600/2500, Total Reward: 1008.76, Epsilon: 0.37\n",
      "Episode 1700/2500, Total Reward: 262.16, Epsilon: 0.33\n",
      "Episode 1800/2500, Total Reward: 536.04, Epsilon: 0.29\n",
      "Episode 1900/2500, Total Reward: 262.16, Epsilon: 0.25\n",
      "Episode 2000/2500, Total Reward: 1588.13, Epsilon: 0.21\n",
      "Episode 2100/2500, Total Reward: 262.12, Epsilon: 0.17\n",
      "Episode 2200/2500, Total Reward: 1009.00, Epsilon: 0.13\n",
      "Episode 2300/2500, Total Reward: 262.12, Epsilon: 0.09\n",
      "Episode 2400/2500, Total Reward: 5561.41, Epsilon: 0.05\n",
      "Episode 2500/2500, Total Reward: 13457.15, Epsilon: 0.01\n",
      "Training complete! Models saved.\n"
     ]
    }
   ],
   "source": [
    "train_dqn(policy_dqn, target_dqn, replay_memory, env, TRAINING_PARAMS, one_hot_encoding_act_conv, env_act_dict_list, dev)"
   ]
  },
  {
   "cell_type": "code",
   "execution_count": null,
   "metadata": {},
   "outputs": [],
   "source": []
  }
 ],
 "metadata": {
  "kernelspec": {
   "display_name": "l2rpn",
   "language": "python",
   "name": "python3"
  },
  "language_info": {
   "codemirror_mode": {
    "name": "ipython",
    "version": 3
   },
   "file_extension": ".py",
   "mimetype": "text/x-python",
   "name": "python",
   "nbconvert_exporter": "python",
   "pygments_lexer": "ipython3",
   "version": "3.12.5"
  }
 },
 "nbformat": 4,
 "nbformat_minor": 2
}
